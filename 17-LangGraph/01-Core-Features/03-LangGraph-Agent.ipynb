{
 "cells": [
  {
   "cell_type": "markdown",
   "id": "4d266a96",
   "metadata": {},
   "source": [
    "# LangGraph 활용 Agent 구축\n",
    "\n",
    "이번 튜토리얼에서는 웹 검색 도구를 통해 챗봇에 웹 검색 기능을 수행하는 Agent를 추가합니다.\n",
    "\n",
    "LLM에 도구를 바인딩하여 LLM에 입력된 요청에 따라 필요 시 웹 검색 도구(Tool)를 호출하는 Agent를 구축합니다.\n",
    "\n",
    "뿐만 아니라, 조건부 엣지를 통해 도구 호출 여부에 따라 다른 노드로 라우팅하는 방법도 함께 배워봅니다."
   ]
  },
  {
   "cell_type": "code",
   "execution_count": 1,
   "id": "a6bf8697",
   "metadata": {},
   "outputs": [],
   "source": [
    "# API 키를 환경변수로 관리하기 위한 설정 파일\n",
    "# LangSmith 추적을 설정합니다.\n",
    "import os\n",
    "from dotenv import load_dotenv\n",
    "\n",
    "# API 키 정보 로드\n",
    "dotenv_path = \"/mnt/data1/work/LangChain_Study/.env\"\n",
    "load_dotenv(dotenv_path=dotenv_path)\n",
    "\n",
    "os.environ[\"LANGSMITH_PROJECT\"]=\"CH17-LangGrapgh-Modules\""
   ]
  },
  {
   "cell_type": "markdown",
   "id": "e3792d6e",
   "metadata": {},
   "source": [
    "## 도구(Tool) 사용하기"
   ]
  },
  {
   "cell_type": "markdown",
   "id": "4afc2a58",
   "metadata": {},
   "source": []
  }
 ],
 "metadata": {
  "kernelspec": {
   "display_name": "llm",
   "language": "python",
   "name": "python3"
  },
  "language_info": {
   "codemirror_mode": {
    "name": "ipython",
    "version": 3
   },
   "file_extension": ".py",
   "mimetype": "text/x-python",
   "name": "python",
   "nbconvert_exporter": "python",
   "pygments_lexer": "ipython3",
   "version": "3.10.16"
  }
 },
 "nbformat": 4,
 "nbformat_minor": 5
}
